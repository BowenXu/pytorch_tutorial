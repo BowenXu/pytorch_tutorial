{
 "cells": [
  {
   "cell_type": "markdown",
   "metadata": {},
   "source": [
    "## Maximum Likelihood for Bernoulli with PyTorch\n",
    "\n",
    "Let's say that we have 100 samples from a Bernoulli distribution:"
   ]
  },
  {
   "cell_type": "code",
   "execution_count": 1,
   "metadata": {
    "collapsed": true
   },
   "outputs": [],
   "source": [
    "import torch\n",
    "import numpy as np\n",
    "\n",
    "from torch.autograd import Variable\n",
    "\n",
    "sample = np.array([ 1.,  1.,  0.,  1.,  1.,  1.,  0.,  1.,  1.,  1.,  1.,  1.,  1.,\n",
    "        1.,  0.,  1.,  0.,  1.,  1.,  1.,  1.,  1.,  1.,  1.,  1.,  1.,\n",
    "        1.,  1.,  1.,  0.,  1.,  1.,  1.,  1.,  1.,  1.,  1.,  1.,  1.,\n",
    "        1.,  1.,  1.,  0.,  1.,  1.,  1.,  0.,  1.,  1.,  0.,  1.,  1.,\n",
    "        1.,  0.,  1.,  0.,  1.,  1.,  0.,  1.,  1.,  0.,  1.,  1.,  1.,\n",
    "        1.,  1.,  1.,  1.,  0.,  0.,  1.,  1.,  1.,  1.,  0.,  0.,  1.,\n",
    "        0.,  1.,  1.,  1.,  1.,  0.,  0.,  1.,  1.,  1.,  1.,  0.,  1.,\n",
    "        0.,  1.,  1.,  0.,  1.,  0.,  1.,  0.,  0.,  1.,  1.,  1.,  0.,\n",
    "        0.,  1.,  1.,  1.,  1.,  0.,  1.,  1.,  1.,  1.,  1.,  0.,  1.,\n",
    "        0.,  1.,  1.,  1.,  1.,  1.,  0.,  1.,  0.,  0.,  1.,  1.,  1.,\n",
    "        0.,  1.,  1.,  1.,  0.,  1.,  1.,  1.,  0.,  0.,  1.,  1.,  1.,\n",
    "        1.,  1.,  0.,  0.,  1.,  1.,  0.,  1.,  1.,  0.,  1.,  0.,  1.,\n",
    "        1.,  1.,  1.,  0.,  1.,  0.,  1.,  1.,  1.,  1.,  0.,  0.,  1.,\n",
    "        0.,  1.,  1.,  1.,  1.,  1.,  1.,  0.,  1.,  1.,  1.,  0.,  1.,\n",
    "        1.,  1.,  1.,  0.,  1.,  1.,  1.,  0.,  0.,  0.,  1.,  1.,  1.,\n",
    "        1.,  0.,  1.,  0.,  1.])\n",
    "\n"
   ]
  },
  {
   "cell_type": "code",
   "execution_count": 2,
   "metadata": {},
   "outputs": [
    {
     "data": {
      "text/plain": [
       "0.72499999999999998"
      ]
     },
     "execution_count": 2,
     "metadata": {},
     "output_type": "execute_result"
    }
   ],
   "source": [
    "np.mean(sample)"
   ]
  },
  {
   "cell_type": "markdown",
   "metadata": {},
   "source": [
    "Let's now define the probability `p` of generating 1, and put the sample into a PyTorch `Variable`:"
   ]
  },
  {
   "cell_type": "code",
   "execution_count": 3,
   "metadata": {
    "collapsed": true
   },
   "outputs": [],
   "source": [
    "x = Variable(torch.from_numpy(sample), requires_grad=False).type(torch.FloatTensor)\n",
    "p = Variable(torch.rand(1), requires_grad=True)"
   ]
  },
  {
   "cell_type": "markdown",
   "metadata": {},
   "source": [
    "We are ready to learn the model using maximum likelihood:"
   ]
  },
  {
   "cell_type": "code",
   "execution_count": 4,
   "metadata": {},
   "outputs": [
    {
     "name": "stdout",
     "output_type": "stream",
     "text": [
      "('loglik  =', array([ 122.3896637], dtype=float32), 'p =', array([ 0.62336957], dtype=float32), 'dL/dp = ', array([ 0.], dtype=float32))\n",
      "('loglik  =', array([ 117.76246643], dtype=float32), 'p =', array([ 0.70910573], dtype=float32), 'dL/dp = ', array([ 0.], dtype=float32))\n",
      "('loglik  =', array([ 117.63617706], dtype=float32), 'p =', array([ 0.72283959], dtype=float32), 'dL/dp = ', array([ 0.], dtype=float32))\n",
      "('loglik  =', array([ 117.63379669], dtype=float32), 'p =', array([ 0.72471392], dtype=float32), 'dL/dp = ', array([ 0.], dtype=float32))\n",
      "('loglik  =', array([ 117.63375092], dtype=float32), 'p =', array([ 0.72496229], dtype=float32), 'dL/dp = ', array([ 0.], dtype=float32))\n",
      "('loglik  =', array([ 117.63375854], dtype=float32), 'p =', array([ 0.72499502], dtype=float32), 'dL/dp = ', array([ 0.], dtype=float32))\n",
      "('loglik  =', array([ 117.63375854], dtype=float32), 'p =', array([ 0.72499853], dtype=float32), 'dL/dp = ', array([ 0.], dtype=float32))\n",
      "('loglik  =', array([ 117.63375854], dtype=float32), 'p =', array([ 0.72499853], dtype=float32), 'dL/dp = ', array([ 0.], dtype=float32))\n",
      "('loglik  =', array([ 117.63375854], dtype=float32), 'p =', array([ 0.72499853], dtype=float32), 'dL/dp = ', array([ 0.], dtype=float32))\n",
      "('loglik  =', array([ 117.63375854], dtype=float32), 'p =', array([ 0.72499853], dtype=float32), 'dL/dp = ', array([ 0.], dtype=float32))\n"
     ]
    }
   ],
   "source": [
    "learning_rate = 0.00002\n",
    "for t in range(1000):\n",
    "    NLL = -torch.sum(x) * torch.log(p) - torch.sum(1-x) * torch.log(1-p)\n",
    "    NLL.backward()\n",
    "\n",
    "    p.data -= learning_rate * p.grad.data\n",
    "    p.grad.data.zero_()\n",
    "\n",
    "    if t % 100 == 0:\n",
    "        print(\"loglik  =\", NLL.data.numpy(), \"p =\", p.data.numpy(), \"dL/dp = \", p.grad.data.numpy())\n"
   ]
  },
  {
   "cell_type": "code",
   "execution_count": null,
   "metadata": {
    "collapsed": true
   },
   "outputs": [],
   "source": []
  }
 ],
 "metadata": {
  "kernelspec": {
   "display_name": "Python 2",
   "language": "python",
   "name": "python2"
  },
  "language_info": {
   "codemirror_mode": {
    "name": "ipython",
    "version": 2
   },
   "file_extension": ".py",
   "mimetype": "text/x-python",
   "name": "python",
   "nbconvert_exporter": "python",
   "pygments_lexer": "ipython2",
   "version": "2.7.13"
  }
 },
 "nbformat": 4,
 "nbformat_minor": 2
}
